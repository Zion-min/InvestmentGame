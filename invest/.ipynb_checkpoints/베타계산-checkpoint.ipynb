{
 "cells": [
  {
   "cell_type": "code",
   "execution_count": 116,
   "metadata": {},
   "outputs": [],
   "source": [
    "# setting\n",
    "\n",
    "import numpy as np\n",
    "import matplotlib.pyplot as plt\n",
    "import pandas as pd"
   ]
  },
  {
   "cell_type": "code",
   "execution_count": 180,
   "metadata": {},
   "outputs": [],
   "source": [
    "kospi = pd.read_excel('/workspace/AlgorithmTrading/1998-1999고슾히.xlsx', index_col=0)"
   ]
  },
  {
   "cell_type": "code",
   "execution_count": 181,
   "metadata": {},
   "outputs": [],
   "source": [
    "fluctation = pd.read_excel('/workspace/AlgorithmTrading/1998-1999변동률.xlsx', index_col=0)"
   ]
  },
  {
   "cell_type": "code",
   "execution_count": 182,
   "metadata": {},
   "outputs": [],
   "source": [
    "endprice = pd.read_excel('/workspace/AlgorithmTrading/1998-1999종가.xlsx', index_col=0)"
   ]
  },
  {
   "cell_type": "code",
   "execution_count": 183,
   "metadata": {},
   "outputs": [],
   "source": [
    "#kospi, stock 분산\n",
    "kosvar = kospi.var()[4]\n",
    "flucvar = fluctation.var()"
   ]
  },
  {
   "cell_type": "code",
   "execution_count": 184,
   "metadata": {},
   "outputs": [],
   "source": [
    "#kospi, stock 표준편차\n",
    "kosstd = kospi.std()[4]\n",
    "flucstd = fluctation.std()"
   ]
  },
  {
   "cell_type": "code",
   "execution_count": 293,
   "metadata": {
    "scrolled": false
   },
   "outputs": [
    {
     "data": {
      "text/html": [
       "<div>\n",
       "<style scoped>\n",
       "    .dataframe tbody tr th:only-of-type {\n",
       "        vertical-align: middle;\n",
       "    }\n",
       "\n",
       "    .dataframe tbody tr th {\n",
       "        vertical-align: top;\n",
       "    }\n",
       "\n",
       "    .dataframe thead th {\n",
       "        text-align: right;\n",
       "    }\n",
       "</style>\n",
       "<table border=\"1\" class=\"dataframe\">\n",
       "  <thead>\n",
       "    <tr style=\"text-align: right;\">\n",
       "      <th></th>\n",
       "      <th>beta</th>\n",
       "    </tr>\n",
       "  </thead>\n",
       "  <tbody>\n",
       "  </tbody>\n",
       "</table>\n",
       "</div>"
      ],
      "text/plain": [
       "Empty DataFrame\n",
       "Columns: [beta]\n",
       "Index: []"
      ]
     },
     "execution_count": 293,
     "metadata": {},
     "output_type": "execute_result"
    }
   ],
   "source": [
    "kosfluc = kospi[['변동']]*100\n",
    "#열이 1개인 데이터프레임 생성\n",
    "beta = pd.DataFrame(columns=['beta'])"
   ]
  },
  {
   "cell_type": "code",
   "execution_count": 294,
   "metadata": {},
   "outputs": [],
   "source": [
    "#코스피의 공분산\n",
    "koscov = kosfluc['변동'].cov(kosfluc['변동'])"
   ]
  },
  {
   "cell_type": "code",
   "execution_count": 296,
   "metadata": {},
   "outputs": [],
   "source": [
    "#코스피와 1998-1999 베타를 계산하여 데이터프레임에 넣음\n",
    "for (colname, colval) in fluctation.iteritems():\n",
    "    beta.loc[colname]=[kosfluc['변동'].cov(fluctation[colname])/koscov]"
   ]
  },
  {
   "cell_type": "code",
   "execution_count": 298,
   "metadata": {},
   "outputs": [
    {
     "data": {
      "text/html": [
       "<div>\n",
       "<style scoped>\n",
       "    .dataframe tbody tr th:only-of-type {\n",
       "        vertical-align: middle;\n",
       "    }\n",
       "\n",
       "    .dataframe tbody tr th {\n",
       "        vertical-align: top;\n",
       "    }\n",
       "\n",
       "    .dataframe thead th {\n",
       "        text-align: right;\n",
       "    }\n",
       "</style>\n",
       "<table border=\"1\" class=\"dataframe\">\n",
       "  <thead>\n",
       "    <tr style=\"text-align: right;\">\n",
       "      <th></th>\n",
       "      <th>beta</th>\n",
       "    </tr>\n",
       "  </thead>\n",
       "  <tbody>\n",
       "    <tr>\n",
       "      <th>A000020</th>\n",
       "      <td>0.923194</td>\n",
       "    </tr>\n",
       "    <tr>\n",
       "      <th>A000040</th>\n",
       "      <td>0.709468</td>\n",
       "    </tr>\n",
       "    <tr>\n",
       "      <th>A000050</th>\n",
       "      <td>0.483967</td>\n",
       "    </tr>\n",
       "    <tr>\n",
       "      <th>A000060</th>\n",
       "      <td>1.170922</td>\n",
       "    </tr>\n",
       "    <tr>\n",
       "      <th>A000070</th>\n",
       "      <td>0.881619</td>\n",
       "    </tr>\n",
       "    <tr>\n",
       "      <th>...</th>\n",
       "      <td>...</td>\n",
       "    </tr>\n",
       "    <tr>\n",
       "      <th>A700001</th>\n",
       "      <td>NaN</td>\n",
       "    </tr>\n",
       "    <tr>\n",
       "      <th>A700002</th>\n",
       "      <td>NaN</td>\n",
       "    </tr>\n",
       "    <tr>\n",
       "      <th>A700003</th>\n",
       "      <td>NaN</td>\n",
       "    </tr>\n",
       "    <tr>\n",
       "      <th>A900140</th>\n",
       "      <td>NaN</td>\n",
       "    </tr>\n",
       "    <tr>\n",
       "      <th>A950210</th>\n",
       "      <td>NaN</td>\n",
       "    </tr>\n",
       "  </tbody>\n",
       "</table>\n",
       "<p>1438 rows × 1 columns</p>\n",
       "</div>"
      ],
      "text/plain": [
       "             beta\n",
       "A000020  0.923194\n",
       "A000040  0.709468\n",
       "A000050  0.483967\n",
       "A000060  1.170922\n",
       "A000070  0.881619\n",
       "...           ...\n",
       "A700001       NaN\n",
       "A700002       NaN\n",
       "A700003       NaN\n",
       "A900140       NaN\n",
       "A950210       NaN\n",
       "\n",
       "[1438 rows x 1 columns]"
      ]
     },
     "execution_count": 298,
     "metadata": {},
     "output_type": "execute_result"
    }
   ],
   "source": [
    "beta"
   ]
  },
  {
   "cell_type": "code",
   "execution_count": 305,
   "metadata": {},
   "outputs": [],
   "source": [
    "one = beta.pct_change(20)\n",
    "three = beta.pct_change()\n",
    "beta = beta['beta'].sort_values()"
   ]
  },
  {
   "cell_type": "code",
   "execution_count": 307,
   "metadata": {},
   "outputs": [
    {
     "data": {
      "text/html": [
       "<div>\n",
       "<style scoped>\n",
       "    .dataframe tbody tr th:only-of-type {\n",
       "        vertical-align: middle;\n",
       "    }\n",
       "\n",
       "    .dataframe tbody tr th {\n",
       "        vertical-align: top;\n",
       "    }\n",
       "\n",
       "    .dataframe thead th {\n",
       "        text-align: right;\n",
       "    }\n",
       "</style>\n",
       "<table border=\"1\" class=\"dataframe\">\n",
       "  <thead>\n",
       "    <tr style=\"text-align: right;\">\n",
       "      <th></th>\n",
       "      <th>종가</th>\n",
       "      <th>오픈</th>\n",
       "      <th>고가</th>\n",
       "      <th>저가</th>\n",
       "      <th>거래량</th>\n",
       "      <th>변동</th>\n",
       "    </tr>\n",
       "    <tr>\n",
       "      <th>날짜</th>\n",
       "      <th></th>\n",
       "      <th></th>\n",
       "      <th></th>\n",
       "      <th></th>\n",
       "      <th></th>\n",
       "      <th></th>\n",
       "    </tr>\n",
       "  </thead>\n",
       "  <tbody>\n",
       "    <tr>\n",
       "      <th>1999-12-01</th>\n",
       "      <td>999.16</td>\n",
       "      <td>992.62</td>\n",
       "      <td>1007.29</td>\n",
       "      <td>984.38</td>\n",
       "      <td>294.84M</td>\n",
       "      <td>0.0025</td>\n",
       "    </tr>\n",
       "    <tr>\n",
       "      <th>1999-11-30</th>\n",
       "      <td>996.66</td>\n",
       "      <td>965.45</td>\n",
       "      <td>1009.19</td>\n",
       "      <td>964.44</td>\n",
       "      <td>339.00M</td>\n",
       "      <td>0.0336</td>\n",
       "    </tr>\n",
       "    <tr>\n",
       "      <th>1999-11-29</th>\n",
       "      <td>964.26</td>\n",
       "      <td>955.38</td>\n",
       "      <td>964.26</td>\n",
       "      <td>936.25</td>\n",
       "      <td>276.92M</td>\n",
       "      <td>0.0159</td>\n",
       "    </tr>\n",
       "    <tr>\n",
       "      <th>1999-11-26</th>\n",
       "      <td>949.16</td>\n",
       "      <td>977.77</td>\n",
       "      <td>978.85</td>\n",
       "      <td>945.78</td>\n",
       "      <td>310.88M</td>\n",
       "      <td>-0.0242</td>\n",
       "    </tr>\n",
       "    <tr>\n",
       "      <th>1999-11-25</th>\n",
       "      <td>972.71</td>\n",
       "      <td>975.19</td>\n",
       "      <td>992.65</td>\n",
       "      <td>965.34</td>\n",
       "      <td>351.88M</td>\n",
       "      <td>0.0035</td>\n",
       "    </tr>\n",
       "    <tr>\n",
       "      <th>...</th>\n",
       "      <td>...</td>\n",
       "      <td>...</td>\n",
       "      <td>...</td>\n",
       "      <td>...</td>\n",
       "      <td>...</td>\n",
       "      <td>...</td>\n",
       "    </tr>\n",
       "    <tr>\n",
       "      <th>1998-12-05</th>\n",
       "      <td>490.71</td>\n",
       "      <td>469.63</td>\n",
       "      <td>496.13</td>\n",
       "      <td>469.63</td>\n",
       "      <td>180.55M</td>\n",
       "      <td>0.0523</td>\n",
       "    </tr>\n",
       "    <tr>\n",
       "      <th>1998-12-04</th>\n",
       "      <td>466.34</td>\n",
       "      <td>449.15</td>\n",
       "      <td>466.34</td>\n",
       "      <td>446.82</td>\n",
       "      <td>244.84M</td>\n",
       "      <td>0.0407</td>\n",
       "    </tr>\n",
       "    <tr>\n",
       "      <th>1998-12-03</th>\n",
       "      <td>448.11</td>\n",
       "      <td>447.87</td>\n",
       "      <td>455.66</td>\n",
       "      <td>447.87</td>\n",
       "      <td>206.90M</td>\n",
       "      <td>0.0039</td>\n",
       "    </tr>\n",
       "    <tr>\n",
       "      <th>1998-12-02</th>\n",
       "      <td>446.35</td>\n",
       "      <td>446.17</td>\n",
       "      <td>449.60</td>\n",
       "      <td>442.14</td>\n",
       "      <td>206.68M</td>\n",
       "      <td>0.0009</td>\n",
       "    </tr>\n",
       "    <tr>\n",
       "      <th>1998-12-01</th>\n",
       "      <td>445.96</td>\n",
       "      <td>451.85</td>\n",
       "      <td>451.85</td>\n",
       "      <td>438.42</td>\n",
       "      <td>191.71M</td>\n",
       "      <td>-0.0131</td>\n",
       "    </tr>\n",
       "  </tbody>\n",
       "</table>\n",
       "<p>250 rows × 6 columns</p>\n",
       "</div>"
      ],
      "text/plain": [
       "                종가      오픈       고가      저가      거래량      변동\n",
       "날짜                                                          \n",
       "1999-12-01  999.16  992.62  1007.29  984.38  294.84M  0.0025\n",
       "1999-11-30  996.66  965.45  1009.19  964.44  339.00M  0.0336\n",
       "1999-11-29  964.26  955.38   964.26  936.25  276.92M  0.0159\n",
       "1999-11-26  949.16  977.77   978.85  945.78  310.88M -0.0242\n",
       "1999-11-25  972.71  975.19   992.65  965.34  351.88M  0.0035\n",
       "...            ...     ...      ...     ...      ...     ...\n",
       "1998-12-05  490.71  469.63   496.13  469.63  180.55M  0.0523\n",
       "1998-12-04  466.34  449.15   466.34  446.82  244.84M  0.0407\n",
       "1998-12-03  448.11  447.87   455.66  447.87  206.90M  0.0039\n",
       "1998-12-02  446.35  446.17   449.60  442.14  206.68M  0.0009\n",
       "1998-12-01  445.96  451.85   451.85  438.42  191.71M -0.0131\n",
       "\n",
       "[250 rows x 6 columns]"
      ]
     },
     "execution_count": 307,
     "metadata": {},
     "output_type": "execute_result"
    }
   ],
   "source": [
    "kospi"
   ]
  },
  {
   "cell_type": "code",
   "execution_count": null,
   "metadata": {},
   "outputs": [],
   "source": []
  }
 ],
 "metadata": {
  "kernelspec": {
   "display_name": "Python 3",
   "language": "python",
   "name": "python3"
  },
  "language_info": {
   "codemirror_mode": {
    "name": "ipython",
    "version": 3
   },
   "file_extension": ".py",
   "mimetype": "text/x-python",
   "name": "python",
   "nbconvert_exporter": "python",
   "pygments_lexer": "ipython3",
   "version": "3.7.7"
  }
 },
 "nbformat": 4,
 "nbformat_minor": 4
}
