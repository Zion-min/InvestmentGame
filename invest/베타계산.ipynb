{
 "cells": [
  {
   "cell_type": "code",
   "execution_count": 116,
   "metadata": {},
   "outputs": [],
   "source": [
    "# setting\n",
    "\n",
    "import numpy as np\n",
    "import matplotlib.pyplot as plt\n",
    "import pandas as pd"
   ]
  },
  {
   "cell_type": "code",
   "execution_count": 356,
   "metadata": {},
   "outputs": [],
   "source": [
    "kospi = pd.read_excel('/workspace/AlgorithmTrading/2020-2021고슾히.xlsx', index_col=0)"
   ]
  },
  {
   "cell_type": "code",
   "execution_count": 357,
   "metadata": {},
   "outputs": [],
   "source": [
    "fluctation = pd.read_excel('/workspace/AlgorithmTrading/2020-2021변동률.xlsx', index_col=0)"
   ]
  },
  {
   "cell_type": "code",
   "execution_count": 358,
   "metadata": {},
   "outputs": [],
   "source": [
    "endprice = pd.read_excel('/workspace/AlgorithmTrading/2020-2021종가.xlsx', index_col=0)"
   ]
  },
  {
   "cell_type": "code",
   "execution_count": 359,
   "metadata": {},
   "outputs": [],
   "source": [
    "#kospi, stock 분산\n",
    "kosvar = kospi.var()[4]\n",
    "flucvar = fluctation.var()"
   ]
  },
  {
   "cell_type": "code",
   "execution_count": 360,
   "metadata": {},
   "outputs": [],
   "source": [
    "#kospi, stock 표준편차\n",
    "kosstd = kospi.std()[4]\n",
    "flucstd = fluctation.std()"
   ]
  },
  {
   "cell_type": "code",
   "execution_count": 361,
   "metadata": {
    "scrolled": false
   },
   "outputs": [],
   "source": [
    "kosfluc = kospi[['변동']]*100\n",
    "#열이 1개인 데이터프레임 생성\n",
    "beta = pd.DataFrame(columns=['beta'])"
   ]
  },
  {
   "cell_type": "code",
   "execution_count": 362,
   "metadata": {},
   "outputs": [],
   "source": [
    "#코스피의 공분산\n",
    "koscov = kosfluc['변동'].cov(kosfluc['변동'])"
   ]
  },
  {
   "cell_type": "code",
   "execution_count": 363,
   "metadata": {},
   "outputs": [],
   "source": [
    "#코스피와 1998-1999 베타를 계산하여 데이터프레임에 넣음\n",
    "for (colname, colval) in fluctation.iteritems():\n",
    "    beta.loc[colname]=[kosfluc['변동'].cov(fluctation[colname])/koscov]"
   ]
  },
  {
   "cell_type": "code",
   "execution_count": 369,
   "metadata": {},
   "outputs": [],
   "source": [
    "beta.to_excel('2020-2021베타.xlsx')"
   ]
  },
  {
   "cell_type": "code",
   "execution_count": 365,
   "metadata": {},
   "outputs": [],
   "source": [
    "one = beta.pct_change(20)\n",
    "three = beta.pct_change()\n",
    "beta.to_excel('2020-2021베타.xlsx')"
   ]
  },
  {
   "cell_type": "code",
   "execution_count": 370,
   "metadata": {},
   "outputs": [
    {
     "data": {
      "text/plain": [
       "A009730   -2.252427\n",
       "A252670   -2.112947\n",
       "A252710   -2.099095\n",
       "A253160   -2.086146\n",
       "A252420   -2.076896\n",
       "             ...   \n",
       "A267770    2.121134\n",
       "A304780    2.121728\n",
       "A243880    2.169539\n",
       "A243890    2.213024\n",
       "A377400         NaN\n",
       "Name: beta, Length: 2935, dtype: float64"
      ]
     },
     "execution_count": 370,
     "metadata": {},
     "output_type": "execute_result"
    }
   ],
   "source": [
    "beta"
   ]
  },
  {
   "cell_type": "code",
   "execution_count": 367,
   "metadata": {},
   "outputs": [],
   "source": [
    "beta.to_excel('2020-2021베타.xlsx')"
   ]
  },
  {
   "cell_type": "code",
   "execution_count": null,
   "metadata": {},
   "outputs": [],
   "source": []
  }
 ],
 "metadata": {
  "kernelspec": {
   "display_name": "Python 3",
   "language": "python",
   "name": "python3"
  },
  "language_info": {
   "codemirror_mode": {
    "name": "ipython",
    "version": 3
   },
   "file_extension": ".py",
   "mimetype": "text/x-python",
   "name": "python",
   "nbconvert_exporter": "python",
   "pygments_lexer": "ipython3",
   "version": "3.7.7"
  }
 },
 "nbformat": 4,
 "nbformat_minor": 4
}
